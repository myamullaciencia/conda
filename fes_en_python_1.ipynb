{
  "nbformat": 4,
  "nbformat_minor": 0,
  "metadata": {
    "colab": {
      "name": "fes_en_python_1.ipynb",
      "version": "0.3.2",
      "provenance": [],
      "include_colab_link": true
    },
    "kernelspec": {
      "name": "python3",
      "display_name": "Python 3"
    }
  },
  "cells": [
    {
      "cell_type": "markdown",
      "metadata": {
        "id": "view-in-github",
        "colab_type": "text"
      },
      "source": [
        "<a href=\"https://colab.research.google.com/github/myamullaciencia/conda/blob/master/fes_en_python_1.ipynb\" target=\"_parent\"><img src=\"https://colab.research.google.com/assets/colab-badge.svg\" alt=\"Open In Colab\"/></a>"
      ]
    },
    {
      "cell_type": "code",
      "metadata": {
        "id": "M91JoCRI1trY",
        "colab_type": "code",
        "colab": {}
      },
      "source": [
        "import pandas as pd\n",
        "import seaborn as sns\n",
        "import matplotlib.pyplot as plt\n",
        "import datatable as dt"
      ],
      "execution_count": 0,
      "outputs": []
    },
    {
      "cell_type": "markdown",
      "metadata": {
        "id": "o1Hktrh54EOR",
        "colab_type": "text"
      },
      "source": [
        "### Installing necessary packages"
      ]
    },
    {
      "cell_type": "code",
      "metadata": {
        "id": "l4jAuGnk3K9s",
        "colab_type": "code",
        "colab": {}
      },
      "source": [
        "#!pip install https://s3.amazonaws.com/h2o-release/datatable/stable/datatable-0.8.0/datatable-0.8.0-cp36-cp36m-linux_x86_64.whl\n",
        "#pip install feature-engine"
      ],
      "execution_count": 0,
      "outputs": []
    },
    {
      "cell_type": "code",
      "metadata": {
        "id": "WbbacP6N3rhC",
        "colab_type": "code",
        "colab": {}
      },
      "source": [
        "# Loading data\n",
        "\n",
        "sflow_data = pd.read_csv('https://assets.datacamp.com/production/repositories/3752/datasets/19699a2441073ad6459bf5e3e17690e2cae86cf1/Combined_DS_v10.csv')"
      ],
      "execution_count": 0,
      "outputs": []
    },
    {
      "cell_type": "code",
      "metadata": {
        "id": "ZpV9kc3L4aXG",
        "colab_type": "code",
        "colab": {
          "base_uri": "https://localhost:8080/",
          "height": 310
        },
        "outputId": "90c73eaf-3044-4d1a-dccc-c1a04c633e3d"
      },
      "source": [
        "sflow_data.head()"
      ],
      "execution_count": 10,
      "outputs": [
        {
          "output_type": "execute_result",
          "data": {
            "text/html": [
              "<div>\n",
              "<style scoped>\n",
              "    .dataframe tbody tr th:only-of-type {\n",
              "        vertical-align: middle;\n",
              "    }\n",
              "\n",
              "    .dataframe tbody tr th {\n",
              "        vertical-align: top;\n",
              "    }\n",
              "\n",
              "    .dataframe thead th {\n",
              "        text-align: right;\n",
              "    }\n",
              "</style>\n",
              "<table border=\"1\" class=\"dataframe\">\n",
              "  <thead>\n",
              "    <tr style=\"text-align: right;\">\n",
              "      <th></th>\n",
              "      <th>SurveyDate</th>\n",
              "      <th>FormalEducation</th>\n",
              "      <th>ConvertedSalary</th>\n",
              "      <th>Hobby</th>\n",
              "      <th>Country</th>\n",
              "      <th>StackOverflowJobsRecommend</th>\n",
              "      <th>VersionControl</th>\n",
              "      <th>Age</th>\n",
              "      <th>Years Experience</th>\n",
              "      <th>Gender</th>\n",
              "      <th>RawSalary</th>\n",
              "    </tr>\n",
              "  </thead>\n",
              "  <tbody>\n",
              "    <tr>\n",
              "      <th>0</th>\n",
              "      <td>2/28/18 20:20</td>\n",
              "      <td>Bachelor's degree (BA. BS. B.Eng.. etc.)</td>\n",
              "      <td>NaN</td>\n",
              "      <td>Yes</td>\n",
              "      <td>South Africa</td>\n",
              "      <td>NaN</td>\n",
              "      <td>Git</td>\n",
              "      <td>21</td>\n",
              "      <td>13</td>\n",
              "      <td>Male</td>\n",
              "      <td>NaN</td>\n",
              "    </tr>\n",
              "    <tr>\n",
              "      <th>1</th>\n",
              "      <td>6/28/18 13:26</td>\n",
              "      <td>Bachelor's degree (BA. BS. B.Eng.. etc.)</td>\n",
              "      <td>70841.0</td>\n",
              "      <td>Yes</td>\n",
              "      <td>Sweeden</td>\n",
              "      <td>7.0</td>\n",
              "      <td>Git;Subversion</td>\n",
              "      <td>38</td>\n",
              "      <td>9</td>\n",
              "      <td>Male</td>\n",
              "      <td>70,841.00</td>\n",
              "    </tr>\n",
              "    <tr>\n",
              "      <th>2</th>\n",
              "      <td>6/6/18 3:37</td>\n",
              "      <td>Bachelor's degree (BA. BS. B.Eng.. etc.)</td>\n",
              "      <td>NaN</td>\n",
              "      <td>No</td>\n",
              "      <td>Sweeden</td>\n",
              "      <td>8.0</td>\n",
              "      <td>Git</td>\n",
              "      <td>45</td>\n",
              "      <td>11</td>\n",
              "      <td>NaN</td>\n",
              "      <td>NaN</td>\n",
              "    </tr>\n",
              "    <tr>\n",
              "      <th>3</th>\n",
              "      <td>5/9/18 1:06</td>\n",
              "      <td>Some college/university study without earning ...</td>\n",
              "      <td>21426.0</td>\n",
              "      <td>Yes</td>\n",
              "      <td>Sweeden</td>\n",
              "      <td>NaN</td>\n",
              "      <td>Zip file back-ups</td>\n",
              "      <td>46</td>\n",
              "      <td>12</td>\n",
              "      <td>Male</td>\n",
              "      <td>21,426.00</td>\n",
              "    </tr>\n",
              "    <tr>\n",
              "      <th>4</th>\n",
              "      <td>4/12/18 22:41</td>\n",
              "      <td>Bachelor's degree (BA. BS. B.Eng.. etc.)</td>\n",
              "      <td>41671.0</td>\n",
              "      <td>Yes</td>\n",
              "      <td>UK</td>\n",
              "      <td>8.0</td>\n",
              "      <td>Git</td>\n",
              "      <td>39</td>\n",
              "      <td>7</td>\n",
              "      <td>Male</td>\n",
              "      <td>£41,671.00</td>\n",
              "    </tr>\n",
              "  </tbody>\n",
              "</table>\n",
              "</div>"
            ],
            "text/plain": [
              "      SurveyDate                                    FormalEducation  \\\n",
              "0  2/28/18 20:20           Bachelor's degree (BA. BS. B.Eng.. etc.)   \n",
              "1  6/28/18 13:26           Bachelor's degree (BA. BS. B.Eng.. etc.)   \n",
              "2    6/6/18 3:37           Bachelor's degree (BA. BS. B.Eng.. etc.)   \n",
              "3    5/9/18 1:06  Some college/university study without earning ...   \n",
              "4  4/12/18 22:41           Bachelor's degree (BA. BS. B.Eng.. etc.)   \n",
              "\n",
              "   ConvertedSalary Hobby       Country  StackOverflowJobsRecommend  \\\n",
              "0              NaN   Yes  South Africa                         NaN   \n",
              "1          70841.0   Yes       Sweeden                         7.0   \n",
              "2              NaN    No       Sweeden                         8.0   \n",
              "3          21426.0   Yes       Sweeden                         NaN   \n",
              "4          41671.0   Yes            UK                         8.0   \n",
              "\n",
              "      VersionControl  Age  Years Experience Gender   RawSalary  \n",
              "0                Git   21                13   Male         NaN  \n",
              "1     Git;Subversion   38                 9   Male   70,841.00  \n",
              "2                Git   45                11    NaN         NaN  \n",
              "3  Zip file back-ups   46                12   Male   21,426.00  \n",
              "4                Git   39                 7   Male  £41,671.00  "
            ]
          },
          "metadata": {
            "tags": []
          },
          "execution_count": 10
        }
      ]
    }
  ]
}